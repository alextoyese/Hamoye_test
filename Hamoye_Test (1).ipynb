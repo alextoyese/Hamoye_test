{
 "cells": [
  {
   "cell_type": "code",
   "execution_count": 1,
   "id": "31a5e8f9",
   "metadata": {},
   "outputs": [],
   "source": [
    "import matplotlib.pyplot as plt\n",
    "import seaborn as sns\n",
    "import numpy as np\n",
    "import pandas as pd"
   ]
  },
  {
   "cell_type": "code",
   "execution_count": 2,
   "id": "d59d86ea",
   "metadata": {},
   "outputs": [
    {
     "data": {
      "text/plain": [
       "'e'"
      ]
     },
     "execution_count": 2,
     "metadata": {},
     "output_type": "execute_result"
    }
   ],
   "source": [
    "S = [['him', 'sell'], [90, 28, 43]]\n",
    "S[0][1][1]"
   ]
  },
  {
   "cell_type": "code",
   "execution_count": 6,
   "id": "4488cf44",
   "metadata": {},
   "outputs": [],
   "source": [
    "y = [(2, 4), (7, 8), (1, 5, 9)]"
   ]
  },
  {
   "cell_type": "code",
   "execution_count": 8,
   "id": "31852562",
   "metadata": {},
   "outputs": [
    {
     "data": {
      "text/plain": [
       "8"
      ]
     },
     "execution_count": 8,
     "metadata": {},
     "output_type": "execute_result"
    }
   ],
   "source": [
    "x = y[1][1]\n",
    "x"
   ]
  },
  {
   "cell_type": "code",
   "execution_count": 11,
   "id": "b8daebfa",
   "metadata": {},
   "outputs": [],
   "source": [
    "lst = [[35, 'Portugal', 94], [33, 'Argentina', 93], [30 , 'Brazil', 92]]\n",
    "col = ['Age','Nationality','Overall']"
   ]
  },
  {
   "cell_type": "code",
   "execution_count": 14,
   "id": "6ed8d61c",
   "metadata": {},
   "outputs": [
    {
     "data": {
      "text/html": [
       "<div>\n",
       "<style scoped>\n",
       "    .dataframe tbody tr th:only-of-type {\n",
       "        vertical-align: middle;\n",
       "    }\n",
       "\n",
       "    .dataframe tbody tr th {\n",
       "        vertical-align: top;\n",
       "    }\n",
       "\n",
       "    .dataframe thead th {\n",
       "        text-align: right;\n",
       "    }\n",
       "</style>\n",
       "<table border=\"1\" class=\"dataframe\">\n",
       "  <thead>\n",
       "    <tr style=\"text-align: right;\">\n",
       "      <th></th>\n",
       "      <th>Age</th>\n",
       "      <th>Nationality</th>\n",
       "      <th>Overall</th>\n",
       "    </tr>\n",
       "  </thead>\n",
       "  <tbody>\n",
       "    <tr>\n",
       "      <th>1</th>\n",
       "      <td>35</td>\n",
       "      <td>Portugal</td>\n",
       "      <td>94</td>\n",
       "    </tr>\n",
       "    <tr>\n",
       "      <th>2</th>\n",
       "      <td>33</td>\n",
       "      <td>Argentina</td>\n",
       "      <td>93</td>\n",
       "    </tr>\n",
       "    <tr>\n",
       "      <th>3</th>\n",
       "      <td>30</td>\n",
       "      <td>Brazil</td>\n",
       "      <td>92</td>\n",
       "    </tr>\n",
       "  </tbody>\n",
       "</table>\n",
       "</div>"
      ],
      "text/plain": [
       "   Age Nationality  Overall\n",
       "1   35    Portugal       94\n",
       "2   33   Argentina       93\n",
       "3   30      Brazil       92"
      ]
     },
     "execution_count": 14,
     "metadata": {},
     "output_type": "execute_result"
    }
   ],
   "source": [
    "Df2= pd.DataFrame(lst, columns = col, index= [i for i in range(1,4)])\n",
    "Df2"
   ]
  },
  {
   "cell_type": "code",
   "execution_count": 20,
   "id": "9816de34",
   "metadata": {},
   "outputs": [
    {
     "ename": "TypeError",
     "evalue": "list indices must be integers or slices, not tuple",
     "output_type": "error",
     "traceback": [
      "\u001b[1;31m---------------------------------------------------------------------------\u001b[0m",
      "\u001b[1;31mTypeError\u001b[0m                                 Traceback (most recent call last)",
      "Cell \u001b[1;32mIn[20], line 2\u001b[0m\n\u001b[0;32m      1\u001b[0m array  \u001b[38;5;241m=\u001b[39m ([[\u001b[38;5;241m94\u001b[39m, \u001b[38;5;241m89\u001b[39m, \u001b[38;5;241m63\u001b[39m],[\u001b[38;5;241m93\u001b[39m, \u001b[38;5;241m92\u001b[39m, \u001b[38;5;241m48\u001b[39m],[\u001b[38;5;241m92\u001b[39m, \u001b[38;5;241m94\u001b[39m, \u001b[38;5;241m56\u001b[39m]])\n\u001b[1;32m----> 2\u001b[0m Alex\u001b[38;5;241m=\u001b[39m array[:\u001b[38;5;241m2\u001b[39m,\u001b[38;5;241m1\u001b[39m:]\n\u001b[0;32m      3\u001b[0m Alex\n",
      "\u001b[1;31mTypeError\u001b[0m: list indices must be integers or slices, not tuple"
     ]
    }
   ],
   "source": [
    "array  = ([[94, 89, 63],[93, 92, 48],[92, 94, 56]])\n",
    "Alex= array[:2,1:]\n",
    "Alex"
   ]
  },
  {
   "cell_type": "code",
   "execution_count": 19,
   "id": "29846da9",
   "metadata": {},
   "outputs": [
    {
     "ename": "TypeError",
     "evalue": "'tuple' object does not support item assignment",
     "output_type": "error",
     "traceback": [
      "\u001b[1;31m---------------------------------------------------------------------------\u001b[0m",
      "\u001b[1;31mTypeError\u001b[0m                                 Traceback (most recent call last)",
      "Cell \u001b[1;32mIn[19], line 2\u001b[0m\n\u001b[0;32m      1\u001b[0m my_tuppy \u001b[38;5;241m=\u001b[39m (\u001b[38;5;241m1\u001b[39m,\u001b[38;5;241m2\u001b[39m,\u001b[38;5;241m5\u001b[39m,\u001b[38;5;241m8\u001b[39m)\n\u001b[1;32m----> 2\u001b[0m my_tuppy[\u001b[38;5;241m2\u001b[39m] \u001b[38;5;241m=\u001b[39m \u001b[38;5;241m6\u001b[39m\n",
      "\u001b[1;31mTypeError\u001b[0m: 'tuple' object does not support item assignment"
     ]
    }
   ],
   "source": [
    "my_tuppy = (1,2,5,8)\n",
    "my_tuppy[2] = 6"
   ]
  },
  {
   "cell_type": "code",
   "execution_count": 49,
   "id": "4cdea88b",
   "metadata": {},
   "outputs": [],
   "source": [
    "\n",
    "df = pd.read_csv('FoodBalanceSheets_E_Africa_NOFLAG.csv', encoding = \"latin-1\")"
   ]
  },
  {
   "cell_type": "code",
   "execution_count": 16,
   "id": "1bdb0c37",
   "metadata": {},
   "outputs": [
    {
     "data": {
      "text/html": [
       "<div>\n",
       "<style scoped>\n",
       "    .dataframe tbody tr th:only-of-type {\n",
       "        vertical-align: middle;\n",
       "    }\n",
       "\n",
       "    .dataframe tbody tr th {\n",
       "        vertical-align: top;\n",
       "    }\n",
       "\n",
       "    .dataframe thead th {\n",
       "        text-align: right;\n",
       "    }\n",
       "</style>\n",
       "<table border=\"1\" class=\"dataframe\">\n",
       "  <thead>\n",
       "    <tr style=\"text-align: right;\">\n",
       "      <th></th>\n",
       "      <th></th>\n",
       "      <th>Area Code</th>\n",
       "      <th>Item Code</th>\n",
       "      <th>Item</th>\n",
       "      <th>Element Code</th>\n",
       "      <th>Element</th>\n",
       "      <th>Unit</th>\n",
       "      <th>Y2014</th>\n",
       "      <th>Y2015</th>\n",
       "      <th>Y2016</th>\n",
       "      <th>Y2018</th>\n",
       "    </tr>\n",
       "    <tr>\n",
       "      <th>Y2017</th>\n",
       "      <th>Area</th>\n",
       "      <th></th>\n",
       "      <th></th>\n",
       "      <th></th>\n",
       "      <th></th>\n",
       "      <th></th>\n",
       "      <th></th>\n",
       "      <th></th>\n",
       "      <th></th>\n",
       "      <th></th>\n",
       "      <th></th>\n",
       "    </tr>\n",
       "  </thead>\n",
       "  <tbody>\n",
       "    <tr>\n",
       "      <th>-1582.0</th>\n",
       "      <th>Egypt</th>\n",
       "      <td>59</td>\n",
       "      <td>2908</td>\n",
       "      <td>Sugar Crops</td>\n",
       "      <td>5072</td>\n",
       "      <td>Stock Variation</td>\n",
       "      <td>1000 tonnes</td>\n",
       "      <td>2731.0</td>\n",
       "      <td>47.0</td>\n",
       "      <td>-985.0</td>\n",
       "      <td>-2156.0</td>\n",
       "    </tr>\n",
       "    <tr>\n",
       "      <th>-1200.0</th>\n",
       "      <th>Mozambique</th>\n",
       "      <td>144</td>\n",
       "      <td>2532</td>\n",
       "      <td>Cassava and products</td>\n",
       "      <td>5072</td>\n",
       "      <td>Stock Variation</td>\n",
       "      <td>1000 tonnes</td>\n",
       "      <td>0.0</td>\n",
       "      <td>0.0</td>\n",
       "      <td>915.0</td>\n",
       "      <td>-1445.0</td>\n",
       "    </tr>\n",
       "    <tr>\n",
       "      <th>-1159.0</th>\n",
       "      <th>Mozambique</th>\n",
       "      <td>144</td>\n",
       "      <td>2907</td>\n",
       "      <td>Starchy Roots</td>\n",
       "      <td>5072</td>\n",
       "      <td>Stock Variation</td>\n",
       "      <td>1000 tonnes</td>\n",
       "      <td>-219.0</td>\n",
       "      <td>-3.0</td>\n",
       "      <td>915.0</td>\n",
       "      <td>-1442.0</td>\n",
       "    </tr>\n",
       "    <tr>\n",
       "      <th>-865.0</th>\n",
       "      <th>United Republic of Tanzania</th>\n",
       "      <td>215</td>\n",
       "      <td>2913</td>\n",
       "      <td>Oilcrops</td>\n",
       "      <td>5072</td>\n",
       "      <td>Stock Variation</td>\n",
       "      <td>1000 tonnes</td>\n",
       "      <td>2308.0</td>\n",
       "      <td>2505.0</td>\n",
       "      <td>-195.0</td>\n",
       "      <td>-14.0</td>\n",
       "    </tr>\n",
       "    <tr>\n",
       "      <th>-860.0</th>\n",
       "      <th>United Republic of Tanzania</th>\n",
       "      <td>215</td>\n",
       "      <td>2556</td>\n",
       "      <td>Groundnuts (Shelled Eq)</td>\n",
       "      <td>5072</td>\n",
       "      <td>Stock Variation</td>\n",
       "      <td>1000 tonnes</td>\n",
       "      <td>480.0</td>\n",
       "      <td>572.0</td>\n",
       "      <td>-212.0</td>\n",
       "      <td>-61.0</td>\n",
       "    </tr>\n",
       "    <tr>\n",
       "      <th>...</th>\n",
       "      <th>...</th>\n",
       "      <td>...</td>\n",
       "      <td>...</td>\n",
       "      <td>...</td>\n",
       "      <td>...</td>\n",
       "      <td>...</td>\n",
       "      <td>...</td>\n",
       "      <td>...</td>\n",
       "      <td>...</td>\n",
       "      <td>...</td>\n",
       "      <td>...</td>\n",
       "    </tr>\n",
       "    <tr>\n",
       "      <th>96443.0</th>\n",
       "      <th>Egypt</th>\n",
       "      <td>59</td>\n",
       "      <td>2501</td>\n",
       "      <td>Population</td>\n",
       "      <td>511</td>\n",
       "      <td>Total Population - Both sexes</td>\n",
       "      <td>1000 persons</td>\n",
       "      <td>90425.0</td>\n",
       "      <td>92443.0</td>\n",
       "      <td>94447.0</td>\n",
       "      <td>98424.0</td>\n",
       "    </tr>\n",
       "    <tr>\n",
       "      <th>106400.0</th>\n",
       "      <th>Ethiopia</th>\n",
       "      <td>238</td>\n",
       "      <td>2501</td>\n",
       "      <td>Population</td>\n",
       "      <td>511</td>\n",
       "      <td>Total Population - Both sexes</td>\n",
       "      <td>1000 persons</td>\n",
       "      <td>98094.0</td>\n",
       "      <td>100835.0</td>\n",
       "      <td>103603.0</td>\n",
       "      <td>109224.0</td>\n",
       "    </tr>\n",
       "    <tr>\n",
       "      <th>112625.0</th>\n",
       "      <th>Nigeria</th>\n",
       "      <td>159</td>\n",
       "      <td>2907</td>\n",
       "      <td>Starchy Roots</td>\n",
       "      <td>5301</td>\n",
       "      <td>Domestic supply quantity</td>\n",
       "      <td>1000 tonnes</td>\n",
       "      <td>108756.0</td>\n",
       "      <td>110798.0</td>\n",
       "      <td>116483.0</td>\n",
       "      <td>117038.0</td>\n",
       "    </tr>\n",
       "    <tr>\n",
       "      <th>117702.0</th>\n",
       "      <th>Nigeria</th>\n",
       "      <td>159</td>\n",
       "      <td>2907</td>\n",
       "      <td>Starchy Roots</td>\n",
       "      <td>5511</td>\n",
       "      <td>Production</td>\n",
       "      <td>1000 tonnes</td>\n",
       "      <td>109593.0</td>\n",
       "      <td>111663.0</td>\n",
       "      <td>119330.0</td>\n",
       "      <td>118172.0</td>\n",
       "    </tr>\n",
       "    <tr>\n",
       "      <th>190873.0</th>\n",
       "      <th>Nigeria</th>\n",
       "      <td>159</td>\n",
       "      <td>2501</td>\n",
       "      <td>Population</td>\n",
       "      <td>511</td>\n",
       "      <td>Total Population - Both sexes</td>\n",
       "      <td>1000 persons</td>\n",
       "      <td>176405.0</td>\n",
       "      <td>181137.0</td>\n",
       "      <td>185960.0</td>\n",
       "      <td>195875.0</td>\n",
       "    </tr>\n",
       "  </tbody>\n",
       "</table>\n",
       "<p>14773 rows × 10 columns</p>\n",
       "</div>"
      ],
      "text/plain": [
       "                                       Area Code  Item Code  \\\n",
       "Y2017     Area                                                \n",
       "-1582.0   Egypt                               59       2908   \n",
       "-1200.0   Mozambique                         144       2532   \n",
       "-1159.0   Mozambique                         144       2907   \n",
       "-865.0    United Republic of Tanzania        215       2913   \n",
       "-860.0    United Republic of Tanzania        215       2556   \n",
       "...                                          ...        ...   \n",
       " 96443.0  Egypt                               59       2501   \n",
       " 106400.0 Ethiopia                           238       2501   \n",
       " 112625.0 Nigeria                            159       2907   \n",
       " 117702.0 Nigeria                            159       2907   \n",
       " 190873.0 Nigeria                            159       2501   \n",
       "\n",
       "                                                          Item  Element Code  \\\n",
       "Y2017     Area                                                                 \n",
       "-1582.0   Egypt                                    Sugar Crops          5072   \n",
       "-1200.0   Mozambique                      Cassava and products          5072   \n",
       "-1159.0   Mozambique                             Starchy Roots          5072   \n",
       "-865.0    United Republic of Tanzania                 Oilcrops          5072   \n",
       "-860.0    United Republic of Tanzania  Groundnuts (Shelled Eq)          5072   \n",
       "...                                                        ...           ...   \n",
       " 96443.0  Egypt                                     Population           511   \n",
       " 106400.0 Ethiopia                                  Population           511   \n",
       " 112625.0 Nigeria                                Starchy Roots          5301   \n",
       " 117702.0 Nigeria                                Starchy Roots          5511   \n",
       " 190873.0 Nigeria                                   Population           511   \n",
       "\n",
       "                                                             Element  \\\n",
       "Y2017     Area                                                         \n",
       "-1582.0   Egypt                                      Stock Variation   \n",
       "-1200.0   Mozambique                                 Stock Variation   \n",
       "-1159.0   Mozambique                                 Stock Variation   \n",
       "-865.0    United Republic of Tanzania                Stock Variation   \n",
       "-860.0    United Republic of Tanzania                Stock Variation   \n",
       "...                                                              ...   \n",
       " 96443.0  Egypt                        Total Population - Both sexes   \n",
       " 106400.0 Ethiopia                     Total Population - Both sexes   \n",
       " 112625.0 Nigeria                           Domestic supply quantity   \n",
       " 117702.0 Nigeria                                         Production   \n",
       " 190873.0 Nigeria                      Total Population - Both sexes   \n",
       "\n",
       "                                               Unit     Y2014     Y2015  \\\n",
       "Y2017     Area                                                            \n",
       "-1582.0   Egypt                         1000 tonnes    2731.0      47.0   \n",
       "-1200.0   Mozambique                    1000 tonnes       0.0       0.0   \n",
       "-1159.0   Mozambique                    1000 tonnes    -219.0      -3.0   \n",
       "-865.0    United Republic of Tanzania   1000 tonnes    2308.0    2505.0   \n",
       "-860.0    United Republic of Tanzania   1000 tonnes     480.0     572.0   \n",
       "...                                             ...       ...       ...   \n",
       " 96443.0  Egypt                        1000 persons   90425.0   92443.0   \n",
       " 106400.0 Ethiopia                     1000 persons   98094.0  100835.0   \n",
       " 112625.0 Nigeria                       1000 tonnes  108756.0  110798.0   \n",
       " 117702.0 Nigeria                       1000 tonnes  109593.0  111663.0   \n",
       " 190873.0 Nigeria                      1000 persons  176405.0  181137.0   \n",
       "\n",
       "                                          Y2016     Y2018  \n",
       "Y2017     Area                                             \n",
       "-1582.0   Egypt                          -985.0   -2156.0  \n",
       "-1200.0   Mozambique                      915.0   -1445.0  \n",
       "-1159.0   Mozambique                      915.0   -1442.0  \n",
       "-865.0    United Republic of Tanzania    -195.0     -14.0  \n",
       "-860.0    United Republic of Tanzania    -212.0     -61.0  \n",
       "...                                         ...       ...  \n",
       " 96443.0  Egypt                         94447.0   98424.0  \n",
       " 106400.0 Ethiopia                     103603.0  109224.0  \n",
       " 112625.0 Nigeria                      116483.0  117038.0  \n",
       " 117702.0 Nigeria                      119330.0  118172.0  \n",
       " 190873.0 Nigeria                      185960.0  195875.0  \n",
       "\n",
       "[14773 rows x 10 columns]"
      ]
     },
     "execution_count": 16,
     "metadata": {},
     "output_type": "execute_result"
    }
   ],
   "source": [
    "group1 = df.groupby(['Y2017','Area']).first()\n",
    "group1"
   ]
  },
  {
   "cell_type": "code",
   "execution_count": 30,
   "id": "0cab457d",
   "metadata": {},
   "outputs": [],
   "source": [
    "group = df.groupby('Area')"
   ]
  },
  {
   "cell_type": "code",
   "execution_count": 32,
   "id": "eb52e08e",
   "metadata": {},
   "outputs": [
    {
     "data": {
      "text/plain": [
       "Area\n",
       "Algeria                         41389.00\n",
       "Angola                          29817.00\n",
       "Benin                           11175.00\n",
       "Botswana                         2341.00\n",
       "Burkina Faso                    19193.00\n",
       "Cabo Verde                       2530.00\n",
       "Cameroon                        24566.00\n",
       "Central African Republic         4596.00\n",
       "Chad                            15017.00\n",
       "Comoros                            16.65\n",
       "Congo                            5111.00\n",
       "Côte d'Ivoire                   24437.00\n",
       "Djibouti                         2664.00\n",
       "Egypt                           96443.00\n",
       "Eswatini                         5553.00\n",
       "Ethiopia                       106400.00\n",
       "Ethiopia PDR                        0.00\n",
       "Gabon                            2640.00\n",
       "Gambia                           2544.00\n",
       "Ghana                           29121.00\n",
       "Guinea                          12068.00\n",
       "Guinea-Bissau                    2233.00\n",
       "Kenya                           50221.00\n",
       "Lesotho                          2475.00\n",
       "Liberia                          4702.00\n",
       "Madagascar                      25571.00\n",
       "Malawi                          17670.00\n",
       "Mali                            18512.00\n",
       "Mauritania                      51864.00\n",
       "Mauritius                        3713.00\n",
       "Morocco                         38348.00\n",
       "Mozambique                      28649.00\n",
       "Namibia                          2465.00\n",
       "Niger                           21602.00\n",
       "Nigeria                        190873.00\n",
       "Rwanda                          11981.00\n",
       "Sao Tome and Principe            2407.00\n",
       "Senegal                         15419.00\n",
       "Seychelles                        204.02\n",
       "Sierra Leone                     7488.00\n",
       "South Africa                    57010.00\n",
       "Sudan                           40813.00\n",
       "Sudan (former)                      0.00\n",
       "Togo                             7698.00\n",
       "Tunisia                         11433.00\n",
       "Uganda                          41167.00\n",
       "United Republic of Tanzania     54660.00\n",
       "Zambia                          16854.00\n",
       "Zimbabwe                        14237.00\n",
       "Name: Y2017, dtype: float64"
      ]
     },
     "execution_count": 32,
     "metadata": {},
     "output_type": "execute_result"
    }
   ],
   "source": [
    "group['Y2017'].max()"
   ]
  },
  {
   "cell_type": "code",
   "execution_count": 32,
   "id": "493831a6",
   "metadata": {},
   "outputs": [
    {
     "data": {
      "text/html": [
       "<div>\n",
       "<style scoped>\n",
       "    .dataframe tbody tr th:only-of-type {\n",
       "        vertical-align: middle;\n",
       "    }\n",
       "\n",
       "    .dataframe tbody tr th {\n",
       "        vertical-align: top;\n",
       "    }\n",
       "\n",
       "    .dataframe thead th {\n",
       "        text-align: right;\n",
       "    }\n",
       "</style>\n",
       "<table border=\"1\" class=\"dataframe\">\n",
       "  <thead>\n",
       "    <tr style=\"text-align: right;\">\n",
       "      <th></th>\n",
       "      <th>Area Code</th>\n",
       "      <th>Area</th>\n",
       "      <th>Item Code</th>\n",
       "      <th>Item</th>\n",
       "      <th>Element Code</th>\n",
       "      <th>Element</th>\n",
       "      <th>Unit</th>\n",
       "      <th>Y2014</th>\n",
       "      <th>Y2015</th>\n",
       "      <th>Y2016</th>\n",
       "      <th>Y2017</th>\n",
       "      <th>Y2018</th>\n",
       "    </tr>\n",
       "  </thead>\n",
       "  <tbody>\n",
       "    <tr>\n",
       "      <th>0</th>\n",
       "      <td>4</td>\n",
       "      <td>Algeria</td>\n",
       "      <td>2501</td>\n",
       "      <td>Population</td>\n",
       "      <td>511</td>\n",
       "      <td>Total Population - Both sexes</td>\n",
       "      <td>1000 persons</td>\n",
       "      <td>38924.00</td>\n",
       "      <td>39728.00</td>\n",
       "      <td>40551.00</td>\n",
       "      <td>41389.00</td>\n",
       "      <td>42228.00</td>\n",
       "    </tr>\n",
       "    <tr>\n",
       "      <th>1</th>\n",
       "      <td>4</td>\n",
       "      <td>Algeria</td>\n",
       "      <td>2501</td>\n",
       "      <td>Population</td>\n",
       "      <td>5301</td>\n",
       "      <td>Domestic supply quantity</td>\n",
       "      <td>1000 tonnes</td>\n",
       "      <td>0.00</td>\n",
       "      <td>0.00</td>\n",
       "      <td>0.00</td>\n",
       "      <td>0.00</td>\n",
       "      <td>0.00</td>\n",
       "    </tr>\n",
       "    <tr>\n",
       "      <th>2</th>\n",
       "      <td>4</td>\n",
       "      <td>Algeria</td>\n",
       "      <td>2901</td>\n",
       "      <td>Grand Total</td>\n",
       "      <td>664</td>\n",
       "      <td>Food supply (kcal/capita/day)</td>\n",
       "      <td>kcal/capita/day</td>\n",
       "      <td>3377.00</td>\n",
       "      <td>3379.00</td>\n",
       "      <td>3372.00</td>\n",
       "      <td>3341.00</td>\n",
       "      <td>3322.00</td>\n",
       "    </tr>\n",
       "    <tr>\n",
       "      <th>3</th>\n",
       "      <td>4</td>\n",
       "      <td>Algeria</td>\n",
       "      <td>2901</td>\n",
       "      <td>Grand Total</td>\n",
       "      <td>674</td>\n",
       "      <td>Protein supply quantity (g/capita/day)</td>\n",
       "      <td>g/capita/day</td>\n",
       "      <td>94.90</td>\n",
       "      <td>94.35</td>\n",
       "      <td>94.72</td>\n",
       "      <td>92.82</td>\n",
       "      <td>91.83</td>\n",
       "    </tr>\n",
       "    <tr>\n",
       "      <th>4</th>\n",
       "      <td>4</td>\n",
       "      <td>Algeria</td>\n",
       "      <td>2901</td>\n",
       "      <td>Grand Total</td>\n",
       "      <td>684</td>\n",
       "      <td>Fat supply quantity (g/capita/day)</td>\n",
       "      <td>g/capita/day</td>\n",
       "      <td>80.06</td>\n",
       "      <td>79.36</td>\n",
       "      <td>77.40</td>\n",
       "      <td>80.19</td>\n",
       "      <td>77.28</td>\n",
       "    </tr>\n",
       "    <tr>\n",
       "      <th>...</th>\n",
       "      <td>...</td>\n",
       "      <td>...</td>\n",
       "      <td>...</td>\n",
       "      <td>...</td>\n",
       "      <td>...</td>\n",
       "      <td>...</td>\n",
       "      <td>...</td>\n",
       "      <td>...</td>\n",
       "      <td>...</td>\n",
       "      <td>...</td>\n",
       "      <td>...</td>\n",
       "      <td>...</td>\n",
       "    </tr>\n",
       "    <tr>\n",
       "      <th>60938</th>\n",
       "      <td>181</td>\n",
       "      <td>Zimbabwe</td>\n",
       "      <td>2899</td>\n",
       "      <td>Miscellaneous</td>\n",
       "      <td>5142</td>\n",
       "      <td>Food</td>\n",
       "      <td>1000 tonnes</td>\n",
       "      <td>42.00</td>\n",
       "      <td>46.00</td>\n",
       "      <td>33.00</td>\n",
       "      <td>19.00</td>\n",
       "      <td>16.00</td>\n",
       "    </tr>\n",
       "    <tr>\n",
       "      <th>60939</th>\n",
       "      <td>181</td>\n",
       "      <td>Zimbabwe</td>\n",
       "      <td>2899</td>\n",
       "      <td>Miscellaneous</td>\n",
       "      <td>645</td>\n",
       "      <td>Food supply quantity (kg/capita/yr)</td>\n",
       "      <td>kg</td>\n",
       "      <td>3.06</td>\n",
       "      <td>3.33</td>\n",
       "      <td>2.35</td>\n",
       "      <td>1.33</td>\n",
       "      <td>1.08</td>\n",
       "    </tr>\n",
       "    <tr>\n",
       "      <th>60940</th>\n",
       "      <td>181</td>\n",
       "      <td>Zimbabwe</td>\n",
       "      <td>2899</td>\n",
       "      <td>Miscellaneous</td>\n",
       "      <td>664</td>\n",
       "      <td>Food supply (kcal/capita/day)</td>\n",
       "      <td>kcal/capita/day</td>\n",
       "      <td>3.00</td>\n",
       "      <td>4.00</td>\n",
       "      <td>3.00</td>\n",
       "      <td>1.00</td>\n",
       "      <td>1.00</td>\n",
       "    </tr>\n",
       "    <tr>\n",
       "      <th>60941</th>\n",
       "      <td>181</td>\n",
       "      <td>Zimbabwe</td>\n",
       "      <td>2899</td>\n",
       "      <td>Miscellaneous</td>\n",
       "      <td>674</td>\n",
       "      <td>Protein supply quantity (g/capita/day)</td>\n",
       "      <td>g/capita/day</td>\n",
       "      <td>0.10</td>\n",
       "      <td>0.11</td>\n",
       "      <td>0.08</td>\n",
       "      <td>0.04</td>\n",
       "      <td>0.04</td>\n",
       "    </tr>\n",
       "    <tr>\n",
       "      <th>60942</th>\n",
       "      <td>181</td>\n",
       "      <td>Zimbabwe</td>\n",
       "      <td>2899</td>\n",
       "      <td>Miscellaneous</td>\n",
       "      <td>684</td>\n",
       "      <td>Fat supply quantity (g/capita/day)</td>\n",
       "      <td>g/capita/day</td>\n",
       "      <td>0.04</td>\n",
       "      <td>0.05</td>\n",
       "      <td>0.03</td>\n",
       "      <td>0.02</td>\n",
       "      <td>0.01</td>\n",
       "    </tr>\n",
       "  </tbody>\n",
       "</table>\n",
       "<p>60943 rows × 12 columns</p>\n",
       "</div>"
      ],
      "text/plain": [
       "       Area Code      Area  Item Code           Item  Element Code  \\\n",
       "0              4   Algeria       2501     Population           511   \n",
       "1              4   Algeria       2501     Population          5301   \n",
       "2              4   Algeria       2901    Grand Total           664   \n",
       "3              4   Algeria       2901    Grand Total           674   \n",
       "4              4   Algeria       2901    Grand Total           684   \n",
       "...          ...       ...        ...            ...           ...   \n",
       "60938        181  Zimbabwe       2899  Miscellaneous          5142   \n",
       "60939        181  Zimbabwe       2899  Miscellaneous           645   \n",
       "60940        181  Zimbabwe       2899  Miscellaneous           664   \n",
       "60941        181  Zimbabwe       2899  Miscellaneous           674   \n",
       "60942        181  Zimbabwe       2899  Miscellaneous           684   \n",
       "\n",
       "                                      Element             Unit     Y2014  \\\n",
       "0               Total Population - Both sexes     1000 persons  38924.00   \n",
       "1                    Domestic supply quantity      1000 tonnes      0.00   \n",
       "2               Food supply (kcal/capita/day)  kcal/capita/day   3377.00   \n",
       "3      Protein supply quantity (g/capita/day)     g/capita/day     94.90   \n",
       "4          Fat supply quantity (g/capita/day)     g/capita/day     80.06   \n",
       "...                                       ...              ...       ...   \n",
       "60938                                    Food      1000 tonnes     42.00   \n",
       "60939     Food supply quantity (kg/capita/yr)               kg      3.06   \n",
       "60940           Food supply (kcal/capita/day)  kcal/capita/day      3.00   \n",
       "60941  Protein supply quantity (g/capita/day)     g/capita/day      0.10   \n",
       "60942      Fat supply quantity (g/capita/day)     g/capita/day      0.04   \n",
       "\n",
       "          Y2015     Y2016     Y2017     Y2018  \n",
       "0      39728.00  40551.00  41389.00  42228.00  \n",
       "1          0.00      0.00      0.00      0.00  \n",
       "2       3379.00   3372.00   3341.00   3322.00  \n",
       "3         94.35     94.72     92.82     91.83  \n",
       "4         79.36     77.40     80.19     77.28  \n",
       "...         ...       ...       ...       ...  \n",
       "60938     46.00     33.00     19.00     16.00  \n",
       "60939      3.33      2.35      1.33      1.08  \n",
       "60940      4.00      3.00      1.00      1.00  \n",
       "60941      0.11      0.08      0.04      0.04  \n",
       "60942      0.05      0.03      0.02      0.01  \n",
       "\n",
       "[60943 rows x 12 columns]"
      ]
     },
     "execution_count": 32,
     "metadata": {},
     "output_type": "execute_result"
    }
   ],
   "source": [
    "df"
   ]
  },
  {
   "cell_type": "code",
   "execution_count": 35,
   "id": "aab358ee",
   "metadata": {},
   "outputs": [
    {
     "data": {
      "text/plain": [
       "1589"
      ]
     },
     "execution_count": 35,
     "metadata": {},
     "output_type": "execute_result"
    }
   ],
   "source": [
    "df['Y2014'].isnull().sum()"
   ]
  },
  {
   "cell_type": "code",
   "execution_count": 41,
   "id": "f50bdb57",
   "metadata": {},
   "outputs": [
    {
     "data": {
      "text/plain": [
       "0         Algeria\n",
       "1         Algeria\n",
       "2         Algeria\n",
       "3         Algeria\n",
       "4         Algeria\n",
       "           ...   \n",
       "60938    Zimbabwe\n",
       "60939    Zimbabwe\n",
       "60940    Zimbabwe\n",
       "60941    Zimbabwe\n",
       "60942    Zimbabwe\n",
       "Name: Area, Length: 60943, dtype: object"
      ]
     },
     "execution_count": 41,
     "metadata": {},
     "output_type": "execute_result"
    }
   ],
   "source": [
    "df['Area']"
   ]
  },
  {
   "cell_type": "code",
   "execution_count": 39,
   "id": "a7b5fbe8",
   "metadata": {},
   "outputs": [],
   "source": [
    "missing_1 =df['Y2014'].isnull()\n",
    "missing = missing_1.sum()"
   ]
  },
  {
   "cell_type": "code",
   "execution_count": 40,
   "id": "87a4302a",
   "metadata": {},
   "outputs": [
    {
     "data": {
      "text/plain": [
       "1589"
      ]
     },
     "execution_count": 40,
     "metadata": {},
     "output_type": "execute_result"
    }
   ],
   "source": [
    "missing"
   ]
  },
  {
   "cell_type": "code",
   "execution_count": 43,
   "id": "262fdf9b",
   "metadata": {},
   "outputs": [
    {
     "data": {
      "text/plain": [
       "100.00000000000001"
      ]
     },
     "execution_count": 43,
     "metadata": {},
     "output_type": "execute_result"
    }
   ],
   "source": [
    "percentage_1 = (missing_1 / missing) * 100\n",
    "percentage_1.sum()"
   ]
  },
  {
   "cell_type": "code",
   "execution_count": 53,
   "id": "7f90a779",
   "metadata": {},
   "outputs": [
    {
     "data": {
      "text/plain": [
       "Item\n",
       "Alcohol, Non-Food        2180.00\n",
       "Alcoholic Beverages     98783.72\n",
       "Animal Products         11811.73\n",
       "Animal fats            200675.72\n",
       "Apples and products     10559.15\n",
       "                         ...    \n",
       "Vegetables, Other      158104.08\n",
       "Vegetal Products       107064.17\n",
       "Wheat and products     234710.51\n",
       "Wine                     4251.81\n",
       "Yams                   203151.78\n",
       "Name: Y2015, Length: 119, dtype: float64"
      ]
     },
     "execution_count": 53,
     "metadata": {},
     "output_type": "execute_result"
    }
   ],
   "source": [
    "group_wine = df.groupby('Item')\n",
    "group_wine['Y2015'].sum()"
   ]
  },
  {
   "cell_type": "code",
   "execution_count": 54,
   "id": "873ff3da",
   "metadata": {},
   "outputs": [
    {
     "data": {
      "text/plain": [
       "Item\n",
       "Alcohol, Non-Food        2293.00\n",
       "Alcoholic Beverages     97847.27\n",
       "Animal Products         11578.61\n",
       "Animal fats            269648.27\n",
       "Apples and products      9640.51\n",
       "                         ...    \n",
       "Vegetables, Other      163987.21\n",
       "Vegetal Products       107775.39\n",
       "Wheat and products     242645.19\n",
       "Wine                     4039.32\n",
       "Yams                   221272.09\n",
       "Name: Y2018, Length: 119, dtype: float64"
      ]
     },
     "execution_count": 54,
     "metadata": {},
     "output_type": "execute_result"
    }
   ],
   "source": [
    "group_wine['Y2018'].sum()"
   ]
  },
  {
   "cell_type": "code",
   "execution_count": 55,
   "id": "1a806b00",
   "metadata": {},
   "outputs": [],
   "source": [
    "group_element = df.groupby('Element')"
   ]
  },
  {
   "cell_type": "code",
   "execution_count": 56,
   "id": "9e6a8073",
   "metadata": {},
   "outputs": [
    {
     "data": {
      "text/plain": [
       "Element\n",
       "Domestic supply quantity                  2088198.10\n",
       "Export Quantity                            182338.80\n",
       "Fat supply quantity (g/capita/day)          10253.84\n",
       "Feed                                       223705.68\n",
       "Food                                      1258888.28\n",
       "Food supply (kcal/capita/day)              454681.00\n",
       "Food supply quantity (kg/capita/yr)         48690.04\n",
       "Import Quantity                            294559.09\n",
       "Losses                                     160614.00\n",
       "Other uses (non-food)                       91645.97\n",
       "Processing                                 292836.00\n",
       "Production                                2030056.89\n",
       "Protein supply quantity (g/capita/day)      11842.45\n",
       "Residuals                                   35500.00\n",
       "Seed                                        24870.14\n",
       "Stock Variation                             54316.91\n",
       "Total Population - Both sexes             1112641.00\n",
       "Tourist consumption                            91.00\n",
       "Name: Y2017, dtype: float64"
      ]
     },
     "execution_count": 56,
     "metadata": {},
     "output_type": "execute_result"
    }
   ],
   "source": [
    "group_element['Y2017'].sum()"
   ]
  },
  {
   "cell_type": "code",
   "execution_count": null,
   "id": "915bd006",
   "metadata": {},
   "outputs": [],
   "source": []
  }
 ],
 "metadata": {
  "kernelspec": {
   "display_name": "Python 3 (ipykernel)",
   "language": "python",
   "name": "python3"
  },
  "language_info": {
   "codemirror_mode": {
    "name": "ipython",
    "version": 3
   },
   "file_extension": ".py",
   "mimetype": "text/x-python",
   "name": "python",
   "nbconvert_exporter": "python",
   "pygments_lexer": "ipython3",
   "version": "3.11.4"
  }
 },
 "nbformat": 4,
 "nbformat_minor": 5
}
